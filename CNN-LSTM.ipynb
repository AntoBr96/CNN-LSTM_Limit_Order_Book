{
 "cells": [
  {
   "cell_type": "markdown",
   "metadata": {},
   "source": [
    "# Keras/Tensorflow implementation of the CNN-LSTM model for Limit Order Book forecasting"
   ]
  },
  {
   "cell_type": "markdown",
   "metadata": {},
   "source": [
    "This notebook contains an independently developed Keras/Tensorflow implementation of the CNN-LSTM model for Limit Order Book forecasting originally proposed by Zhang *et al.* (https://arxiv.org/pdf/1808.03668.pdf). The current implementation was adopted in the paper written by Briola *et al.* (https://arxiv.org/pdf/2007.07319.pdf).\n",
    "\n",
    "The interested reder can find the original implementation of the model at https://github.com/zcakhaa/DeepLOB-Deep-Convolutional-Neural-Networks-for-Limit-Order-Books/blob/master/jupyter/run_train_represent.ipynb."
   ]
  },
  {
   "cell_type": "code",
   "execution_count": 4,
   "metadata": {},
   "outputs": [],
   "source": [
    "import tensorflow as tf\n",
    "from tensorflow.keras import *\n",
    "from tensorflow.keras.layers import *"
   ]
  },
  {
   "cell_type": "code",
   "execution_count": 9,
   "metadata": {},
   "outputs": [],
   "source": [
    "def cnn_lstm_model():\n",
    "\n",
    "\n",
    "    inputs = Input(shape=(WINDOW_SIZE, NUMBER_FEATURES, 1,))\n",
    "    first_layer = Conv2D(filters=16, kernel_size=(1, 2), strides=(1, 2))(inputs)\n",
    "    first_leaky_relu_layer = LeakyReLU(alpha=0.05)(first_layer)\n",
    "    first_int_layer = Conv2D(filters=16, kernel_size=(4, 1), padding='same')(first_leaky_relu_layer)\n",
    "    second_int_layer = Conv2D(filters=16, kernel_size=(4, 1), padding='same')(first_int_layer)\n",
    "    second_layer = Conv2D(filters=16, kernel_size=(1, 2), strides=(1, 2))(second_int_layer)\n",
    "    second_leaky_relu_layer = LeakyReLU(alpha=0.05)(second_layer)\n",
    "    third_int_layer = Conv2D(filters=16, kernel_size=(4, 1), padding='same')(second_leaky_relu_layer)\n",
    "    fourth_int_layer = Conv2D(filters=16, kernel_size=(4, 1), padding='same')(third_int_layer)\n",
    "    third_layer = Conv2D(filters=16, kernel_size=(1, 10))(fourth_int_layer)\n",
    "    third_leaky_relu_layer = LeakyReLU(alpha=0.05)(third_layer)\n",
    "    fifth_int_layer = Conv2D(filters=16, kernel_size=(4, 1), padding='same')(third_leaky_relu_layer)\n",
    "    sixth_int_layer = Conv2D(filters=16, kernel_size=(4, 1), padding='same')(fifth_int_layer)\n",
    "\n",
    "    #### Inception module ####\n",
    "\n",
    "    tower_1 = Conv2D(32, (1,1), padding='same')(sixth_int_layer)\n",
    "    tower_1_first_leaky = LeakyReLU(alpha=0.05)(tower_1)\n",
    "    tower_1 = Conv2D(32, (3,1), padding='same')(tower_1_first_leaky)\n",
    "    tower_1_second_leaky = LeakyReLU(alpha=0.05)(tower_1)\n",
    "\n",
    "    tower_2 = Conv2D(32, (1,1), padding='same')(sixth_int_layer)\n",
    "    tower_2_first_leaky = LeakyReLU(alpha=0.05)(tower_2)\n",
    "    tower_2 = Conv2D(32, (5,1), padding='same', activation='relu')(tower_2_first_leaky)\n",
    "    tower_2_second_leaky = LeakyReLU(alpha=0.05)(tower_2)\n",
    "\n",
    "    tower_3 = MaxPooling2D((3,1), strides=(1,1), padding='same')(sixth_int_layer)\n",
    "    tower_3 = Conv2D(32, (1,1), padding='same')(tower_3)\n",
    "    tower_3_second_leaky = LeakyReLU(alpha=0.05)(tower_3)\n",
    "    \n",
    "    ### CONCATENATION ##\n",
    "    output_inception = layers.concatenate([tower_1_second_leaky, \n",
    "                                           tower_2_second_leaky, \n",
    "                                           tower_3_second_leaky], axis = 3)\n",
    "\n",
    "    newdim = tuple([x for x in output_inception.shape.as_list() if x != 1 and x is not None])\n",
    "    reshape_layer = Reshape(newdim) (output_inception)\n",
    "    \n",
    "    ### LSTM LAYER ###\n",
    "\n",
    "    lstm_layer = LSTM(64)(reshape_layer)\n",
    "\n",
    "    final_layer = Dense(3, activation='softmax')(lstm_layer)\n",
    "    model = Model(inputs, final_layer)\n",
    "    \n",
    "    return model"
   ]
  }
 ],
 "metadata": {
  "kernelspec": {
   "display_name": "Python 3",
   "language": "python",
   "name": "python3"
  },
  "language_info": {
   "codemirror_mode": {
    "name": "ipython",
    "version": 3
   },
   "file_extension": ".py",
   "mimetype": "text/x-python",
   "name": "python",
   "nbconvert_exporter": "python",
   "pygments_lexer": "ipython3",
   "version": "3.7.4"
  }
 },
 "nbformat": 4,
 "nbformat_minor": 2
}
